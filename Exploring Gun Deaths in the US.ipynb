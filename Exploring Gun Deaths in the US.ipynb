{
 "cells": [
  {
   "cell_type": "markdown",
   "metadata": {
    "collapsed": true
   },
   "source": [
    "# U.S. Gun Deaths: Exploratory Data Analysis\n",
    "\n",
    "### Summary\n",
    "* 1 gun death per year for every 10,000 people in the U.S.\n",
    "* 63% are suicides, and 35% are homicides\n",
    "* 86% are male gun deaths. Women attempt suicide 3x more often than men, but men die by suicide 3.5x more often than women.\n",
    "* the homicide gun death rate for black people is 10 times higher than that of white people\n",
    "\n",
    "### Source\n",
    "[FiveThirtyEight](http://fivethirtyeight.com/) gathered data from the [Centers for Disease Control and Prevention](https://www.cdc.gov/) and the [Federal Bureau of Investigation](https://www.fbi.gov/) on gun deaths from 2012 through 2014. They made their dataset available to the public [here](https://github.com/fivethirtyeight/guns-data). Thanks FiveThirtyEight!"
   ]
  },
  {
   "cell_type": "code",
   "execution_count": 1,
   "metadata": {},
   "outputs": [
    {
     "name": "stdout",
     "output_type": "stream",
     "text": [
      "['', 'year', 'month', 'intent', 'police', 'sex', 'age', 'race', 'hispanic', 'place', 'education']\n",
      "['1', '2012', '01', 'Suicide', '0', 'M', '34', 'Asian/Pacific Islander', '100', 'Home', '4']\n"
     ]
    }
   ],
   "source": [
    "# read the data and explore it\n",
    "from csv import reader\n",
    "file_object = open('guns.csv', 'r')\n",
    "data = list(reader(file_object))\n",
    "header = data[0]\n",
    "data = data[1:] # remove header\n",
    "print(header) # first column contains the row number\n",
    "print(data[0])"
   ]
  },
  {
   "cell_type": "code",
   "execution_count": 2,
   "metadata": {
    "collapsed": true
   },
   "outputs": [],
   "source": [
    "# this function will help us explore our data\n",
    "\n",
    "def data_counter(dataset, i):\n",
    "    # dataset = list of lists of integers or strings\n",
    "    # i = integer indexing the column we want to count values for\n",
    "    # returns a dictionary of counts for each value\n",
    "    dict_out = {}\n",
    "    for row in dataset:\n",
    "        if row[i] in dict_out:\n",
    "            dict_out[row[i]] += 1\n",
    "        else:\n",
    "            try:\n",
    "                dict_out[row[i]] = 1\n",
    "            except Exception as err:\n",
    "                print('the dataset input must be a list of lists of integers or strings')\n",
    "                print(err)\n",
    "    return dict_out"
   ]
  },
  {
   "cell_type": "markdown",
   "metadata": {},
   "source": [
    "#### How many gun deaths happen each year in the U.S.?"
   ]
  },
  {
   "cell_type": "code",
   "execution_count": 3,
   "metadata": {},
   "outputs": [
    {
     "name": "stdout",
     "output_type": "stream",
     "text": [
      "{'2014': 33599, '2013': 33636, '2012': 33563}\n"
     ]
    }
   ],
   "source": [
    "# count the 2nd column year values\n",
    "deaths_by_year = data_counter(data, 1)\n",
    "print(deaths_by_year)"
   ]
  },
  {
   "cell_type": "code",
   "execution_count": 4,
   "metadata": {},
   "outputs": [
    {
     "name": "stdout",
     "output_type": "stream",
     "text": [
      "{2012: 33563, 2013: 33636, 2014: 33599}\n"
     ]
    }
   ],
   "source": [
    "# alternatively, we could convert the year strings to integers\n",
    "deaths_by_year = {} # initialize dictionary\n",
    "for death in data:\n",
    "    year = int(death[1]) # string to integer\n",
    "    if year in deaths_by_year:\n",
    "        deaths_by_year[year] += 1\n",
    "    else:\n",
    "        deaths_by_year[year] = 1\n",
    "print(deaths_by_year) # ordered nicely"
   ]
  },
  {
   "cell_type": "markdown",
   "metadata": {},
   "source": [
    "#### Answer: about 34,000! This is roughly 1 gun death per year for every 10,000 people living in the US"
   ]
  },
  {
   "cell_type": "markdown",
   "metadata": {},
   "source": [
    "#### Do gun deaths vary a lot from month to month?"
   ]
  },
  {
   "cell_type": "code",
   "execution_count": 5,
   "metadata": {},
   "outputs": [
    {
     "name": "stdout",
     "output_type": "stream",
     "text": [
      "{'10': 8406, '09': 8508, '05': 8669, '04': 8455, '06': 8677, '03': 8289, '01': 8273, '02': 7093, '12': 8413, '07': 8989, '11': 8243, '08': 8783}\n"
     ]
    }
   ],
   "source": [
    "# count the 3rd column month values\n",
    "deaths_by_month = data_counter(data, 2)\n",
    "print(deaths_by_month)"
   ]
  },
  {
   "cell_type": "code",
   "execution_count": 6,
   "metadata": {},
   "outputs": [
    {
     "name": "stdout",
     "output_type": "stream",
     "text": [
      "{1: 8273, 2: 7093, 3: 8289, 4: 8455, 5: 8669, 6: 8677, 7: 8989, 8: 8783, 9: 8508, 10: 8406, 11: 8243, 12: 8413}\n"
     ]
    }
   ],
   "source": [
    "# alternatively, we could use the datetime module\n",
    "# create a list of datetime objects for each death\n",
    "# use 1 as the day of the month as it's unknown\n",
    "from datetime import datetime\n",
    "dates = [datetime(year=int(death[1]), month=int(death[2]), day=1) for death in data] \n",
    "\n",
    "# count the deaths by month\n",
    "deaths_by_month = {} # initialize dictionary\n",
    "for date in dates:\n",
    "    if date.month in deaths_by_month:\n",
    "        deaths_by_month[date.month] += 1\n",
    "    else:\n",
    "        deaths_by_month[date.month] = 1\n",
    "print(deaths_by_month) # ordered nicely"
   ]
  },
  {
   "cell_type": "markdown",
   "metadata": {},
   "source": [
    "#### Answer: February seems to have an abnormally low ammount of gun deaths, even accounting for the fact that it has less days"
   ]
  },
  {
   "cell_type": "markdown",
   "metadata": {},
   "source": [
    "#### How do gun deaths vary by intent?"
   ]
  },
  {
   "cell_type": "code",
   "execution_count": 7,
   "metadata": {},
   "outputs": [
    {
     "name": "stdout",
     "output_type": "stream",
     "text": [
      "{'%Suicide': 63, '%Accidental': 2, '%NA': 0, '%Undetermined': 1, '%Homicide': 35}\n"
     ]
    }
   ],
   "source": [
    "intent_dict = {}\n",
    "for death in data:\n",
    "    if death[3] in intent_dict:\n",
    "        intent_dict[death[3]] += 1\n",
    "    else:\n",
    "        intent_dict[death[3]] = 1\n",
    "\n",
    "total = len(data)\n",
    "normalized_intent_dict = {}\n",
    "for intent in intent_dict:\n",
    "    normalized_intent_dict['%'+intent] = round(intent_dict[intent]/total *100)\n",
    "print(normalized_intent_dict)"
   ]
  },
  {
   "cell_type": "markdown",
   "metadata": {},
   "source": [
    "#### Answer: 63% suicide, 35% homicide, 2% other"
   ]
  },
  {
   "cell_type": "markdown",
   "metadata": {},
   "source": [
    "#### How do gun deaths vary by sex?"
   ]
  },
  {
   "cell_type": "code",
   "execution_count": 8,
   "metadata": {},
   "outputs": [
    {
     "name": "stdout",
     "output_type": "stream",
     "text": [
      "Gun deaths by sex:\n",
      "{'F': 14449, 'M': 86349}\n"
     ]
    }
   ],
   "source": [
    "# count deaths by sex\n",
    "deaths_by_sex = data_counter(data, 5) # 6th column is sex\n",
    "print(deaths_by_sex)"
   ]
  },
  {
   "cell_type": "markdown",
   "metadata": {},
   "source": [
    "#### Answer: 14% of guns deaths are of women, and women represent 50% of the US population. That's a big difference! \n",
    "\n",
    "#### A [2014 study by the American Foundation For Suicide Prevention](https://en.wikipedia.org/wiki/Suicide_in_the_United_States) shows that Women attempt suicide 3x more often than men, but men die by suicide 3.5x more often than women. This indicates that male suicide attempts are more lethal than female ones."
   ]
  },
  {
   "cell_type": "markdown",
   "metadata": {},
   "source": [
    "#### How do gun deaths vary by race? We'll normalize by the populations of each race using the Census Bureau data from 2010 (available [here](https://www.census.gov/2010census/)). Gun deaths are often show per 100,000 people, so we'll show that statistic by race."
   ]
  },
  {
   "cell_type": "code",
   "execution_count": 9,
   "metadata": {},
   "outputs": [],
   "source": [
    "from csv import reader\n",
    "file_object = open('census.csv','r')\n",
    "census_data = list(reader(file_object))\n",
    "#print(census_data[0])\n",
    "#print(census_data[1])\n",
    "#list(enumerate(census_data[0])) #shows the indexes of each column"
   ]
  },
  {
   "cell_type": "code",
   "execution_count": 10,
   "metadata": {},
   "outputs": [],
   "source": [
    "# manually match the corresponding populations to the races in our gun deaths data\n",
    "race_populations = {}\n",
    "race_populations['Asian/Pacific Islander'] = int(census_data[1][14])+int(census_data[1][15])\n",
    "race_populations['Black'] = int(census_data[1][12])\n",
    "race_populations['Native American/Native Alaskan'] = int(census_data[1][13])\n",
    "race_populations['Hispanic'] = int(census_data[1][11])\n",
    "race_populations['White'] = int(census_data[1][10])\n",
    "#print(race_populations)"
   ]
  },
  {
   "cell_type": "code",
   "execution_count": 13,
   "metadata": {},
   "outputs": [
    {
     "name": "stdout",
     "output_type": "stream",
     "text": [
      "{'Black': 58, 'Native American/Native Alaskan': 25, 'Hispanic': 20, 'Asian/Pacific Islander': 8, 'White': 34}\n"
     ]
    }
   ],
   "source": [
    "deaths_by_race = data_counter(data, 7)\n",
    "normalized_deaths_by_race = {}\n",
    "for race in race_populations:\n",
    "    normalized_deaths_by_race[race] = round(deaths_by_race[race]/race_populations[race] * 100000)\n",
    "print(normalized_deaths_by_race)"
   ]
  },
  {
   "cell_type": "markdown",
   "metadata": {},
   "source": [
    "#### Answer: the gun death rate for black people is 1.7 times higher than that of white people, 3 times higher than hispanics, and 7 times higher than asians."
   ]
  },
  {
   "cell_type": "markdown",
   "metadata": {},
   "source": [
    "#### What if we only consider homicide gun deaths? What are the homicide rates of gun deaths per 100,000 people by race?"
   ]
  },
  {
   "cell_type": "code",
   "execution_count": 14,
   "metadata": {},
   "outputs": [
    {
     "name": "stdout",
     "output_type": "stream",
     "text": [
      "{'Black': 48, 'Native American/Native Alaskan': 9, 'Hispanic': 13, 'Asian/Pacific Islander': 4, 'White': 5}\n"
     ]
    }
   ],
   "source": [
    "homicide_data = []\n",
    "for death in data:\n",
    "    intent = death[3]\n",
    "    if intent == 'Homicide':\n",
    "        homicide_data.append(death)\n",
    "\n",
    "homicides_by_race = data_counter(dataset=homicide_data, i=7)\n",
    "\n",
    "normalized_homicides_by_race = {}\n",
    "for race in race_populations:\n",
    "    normalized_homicides_by_race[race] = round(homicides_by_race[race]/race_populations[race] * 100000)\n",
    "print(normalized_homicides_by_race)"
   ]
  },
  {
   "cell_type": "markdown",
   "metadata": {},
   "source": [
    "#### Answer: the homicide gun death rate for black people is 10 times higher than that of white people, 4 times higher than hispanics, and 12 times higher than asians."
   ]
  }
 ],
 "metadata": {
  "kernelspec": {
   "display_name": "Python 3",
   "language": "python",
   "name": "python3"
  },
  "language_info": {
   "codemirror_mode": {
    "name": "ipython",
    "version": 3
   },
   "file_extension": ".py",
   "mimetype": "text/x-python",
   "name": "python",
   "nbconvert_exporter": "python",
   "pygments_lexer": "ipython3",
   "version": "3.6.1"
  }
 },
 "nbformat": 4,
 "nbformat_minor": 1
}
